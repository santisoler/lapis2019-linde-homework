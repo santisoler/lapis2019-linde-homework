{
 "cells": [
  {
   "cell_type": "code",
   "execution_count": 1,
   "metadata": {},
   "outputs": [],
   "source": [
    "import numpy as np\n",
    "from scipy.io import loadmat\n",
    "import matplotlib.pyplot as plt"
   ]
  },
  {
   "cell_type": "markdown",
   "metadata": {},
   "source": [
    "# Forward problem of GPR"
   ]
  },
  {
   "cell_type": "code",
   "execution_count": 2,
   "metadata": {},
   "outputs": [],
   "source": [
    "# Define depths to sources and receivers (must be the same)\n",
    "sources = np.linspace(0.5, 5.5, 6)  # in meters\n",
    "receivers = sources.copy()\n",
    "boreholes_distance = 4  # in meters\n",
    "dh = sources[1] - sources[0]"
   ]
  },
  {
   "cell_type": "code",
   "execution_count": 3,
   "metadata": {},
   "outputs": [],
   "source": [
    "def GPR_forward(porosity):\n",
    "    # Transform 4 porosity into 6 porosity layers\n",
    "    porosity_layers = np.zeros(6)\n",
    "    porosity_layers[0] = porosity[0]\n",
    "    porosity_layers[1] = porosity[0]\n",
    "    porosity_layers[2] = porosity[1]\n",
    "    porosity_layers[3] = porosity[2]\n",
    "    porosity_layers[4] = porosity[2]\n",
    "    porosity_layers[5] = porosity[3]\n",
    "    # Transform porosity into slowness vector\n",
    "    slowness = porosity_to_slowness(porosity_layers)\n",
    "    times = np.zeros((6, 6))\n",
    "    for i in range(6):\n",
    "        for j in range(6):\n",
    "            if i == j:\n",
    "                # Fill the diagonal of times matrix\n",
    "                times[i, i] = slowness[i] * boreholes_distance\n",
    "            else:\n",
    "                # Fill no diagonal elements\n",
    "                height = abs(sources[i] - receivers[j])\n",
    "                factor = (\n",
    "                    dh\n",
    "                    * np.sqrt(1 + boreholes_distance ** 2 / height **2)\n",
    "                )\n",
    "                times[i, j] = 0.5 * slowness[i]\n",
    "                times[i, j] += 0.5 * slowness[j]\n",
    "                min_index, max_index = min(i, j), max(i, j)\n",
    "                times[i, j] += sum(slowness[min_index + 1 : max_index])\n",
    "                times[i, j] *= factor\n",
    "    return times\n",
    "\n",
    "\n",
    "def porosity_to_slowness(porosity, kappa_s=5, kappa_w=81):\n",
    "    c = 0.3  # speed of light in vacumm in m/ns\n",
    "    porosity = np.array(porosity)\n",
    "    kappa_sqrt = (1 - porosity) * np.sqrt(kappa_s) + porosity * np.sqrt(kappa_w)\n",
    "    return kappa_sqrt / c"
   ]
  },
  {
   "cell_type": "code",
   "execution_count": 4,
   "metadata": {},
   "outputs": [],
   "source": [
    "porosity = [0.2, 0.2, 0.4, 0.2]\n",
    "times = GPR_forward(porosity)"
   ]
  },
  {
   "cell_type": "markdown",
   "metadata": {},
   "source": [
    "# Inverse problem with rejection sampling"
   ]
  },
  {
   "cell_type": "code",
   "execution_count": 5,
   "metadata": {},
   "outputs": [],
   "source": [
    "def likelihood(times, porosity, sigma):\n",
    "    n_times = times.size\n",
    "    difference = (\n",
    "        GPR_forward(porosity).ravel()\n",
    "        - times.ravel()\n",
    "    )\n",
    "    difference_sq = difference.sum() ** 2\n",
    "    likelihood = (\n",
    "        (1 / np.sqrt(2 * np.pi) / sigma) ** 36\n",
    "        * np.exp(-0.5 * difference_sq / sigma ** 2)\n",
    "    )\n",
    "    return likelihood"
   ]
  },
  {
   "cell_type": "code",
   "execution_count": 9,
   "metadata": {},
   "outputs": [
    {
     "name": "stdout",
     "output_type": "stream",
     "text": [
      "293\n"
     ]
    }
   ],
   "source": [
    "# Define sigma\n",
    "sigma = 1  # in ns\n",
    "# Define supremum\n",
    "supremum = (1 / np.sqrt(2 * np.pi) / sigma) ** 36 * np.exp(- 0.5 * 36)\n",
    "supremum = 1e-14\n",
    "\n",
    "\n",
    "iterations = 100000\n",
    "porosities = np.zeros((iterations, 4))\n",
    "n_accepted = 0\n",
    "likes = np.zeros(iterations)\n",
    "for i in range(iterations):\n",
    "    # Draw a porosity array with uniform distribution between 0.2 and 0.4\n",
    "    porosity_prop = (0.4 - 0.2) * np.random.rand(4) + 0.2\n",
    "    # Check if it should be rejected or accepted\n",
    "    likes[i] = likelihood(times, porosity_prop, sigma)\n",
    "    probability = likes[i] / supremum\n",
    "    if np.random.rand() < probability:\n",
    "        porosities[n_accepted] = porosity_prop\n",
    "        n_accepted += 1\n",
    "        \n",
    "porosities = porosities[:n_accepted]\n",
    "print(n_accepted)"
   ]
  },
  {
   "cell_type": "code",
   "execution_count": 10,
   "metadata": {},
   "outputs": [
    {
     "name": "stdout",
     "output_type": "stream",
     "text": [
      "1e-14\n"
     ]
    },
    {
     "data": {
      "image/png": "[encoded data removed]",
      "text/plain": [
       "<Figure size 432x288 with 1 Axes>"
      ]
     },
     "metadata": {
      "needs_background": "light"
     },
     "output_type": "display_data"
    },
    {
     "name": "stdout",
     "output_type": "stream",
     "text": [
      "4.292995619138001e-15\n"
     ]
    }
   ],
   "source": [
    "plt.plot(likes)\n",
    "print(supremum)\n",
    "plt.show()\n",
    "\n",
    "print(likes.max())"
   ]
  },
  {
   "cell_type": "code",
   "execution_count": 11,
   "metadata": {},
   "outputs": [
    {
     "data": {
      "image/png": "[encoded data removed]",
      "text/plain": [
       "<Figure size 432x288 with 1 Axes>"
      ]
     },
     "metadata": {
      "needs_background": "light"
     },
     "output_type": "display_data"
    },
    {
     "data": {
      "image/png": "[encoded data removed]",
      "text/plain": [
       "<Figure size 432x288 with 1 Axes>"
      ]
     },
     "metadata": {
      "needs_background": "light"
     },
     "output_type": "display_data"
    },
    {
     "data": {
      "image/png": "[encoded data removed]",
      "text/plain": [
       "<Figure size 432x288 with 1 Axes>"
      ]
     },
     "metadata": {
      "needs_background": "light"
     },
     "output_type": "display_data"
    },
    {
     "data": {
      "image/png": "[encoded data removed]",
      "text/plain": [
       "<Figure size 432x288 with 1 Axes>"
      ]
     },
     "metadata": {
      "needs_background": "light"
     },
     "output_type": "display_data"
    }
   ],
   "source": [
    "plt.hist(porosities[:, 0])\n",
    "plt.show()\n",
    "plt.hist(porosities[:, 1])\n",
    "plt.show()\n",
    "plt.hist(porosities[:, 2])\n",
    "plt.show()\n",
    "plt.hist(porosities[:, 3])\n",
    "plt.show()"
   ]
  },
  {
   "cell_type": "code",
   "execution_count": 25,
   "metadata": {},
   "outputs": [],
   "source": [
    "data = loadmat(\"data.mat\")"
   ]
  },
  {
   "cell_type": "code",
   "execution_count": 26,
   "metadata": {},
   "outputs": [],
   "source": [
    "times = data[\"dataobs5\"].reshape(6, 6)"
   ]
  },
  {
   "cell_type": "code",
   "execution_count": null,
   "metadata": {},
   "outputs": [],
   "source": []
  }
 ],
 "metadata": {
  "kernelspec": {
   "display_name": "Python 3",
   "language": "python",
   "name": "python3"
  },
  "language_info": {
   "codemirror_mode": {
    "name": "ipython",
    "version": 3
   },
   "file_extension": ".py",
   "mimetype": "text/x-python",
   "name": "python",
   "nbconvert_exporter": "python",
   "pygments_lexer": "ipython3",
   "version": "3.7.3"
  }
 },
 "nbformat": 4,
 "nbformat_minor": 2
}
