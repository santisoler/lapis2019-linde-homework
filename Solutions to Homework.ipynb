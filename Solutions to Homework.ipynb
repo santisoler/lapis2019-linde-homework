{
 "cells": [
  {
   "cell_type": "code",
   "execution_count": 1,
   "metadata": {},
   "outputs": [],
   "source": [
    "import numpy as np\n",
    "from numba import jit\n",
    "from scipy.io import loadmat\n",
    "import matplotlib.pyplot as plt"
   ]
  },
  {
   "cell_type": "markdown",
   "metadata": {},
   "source": [
    "# Define functions for GPR forward model"
   ]
  },
  {
   "cell_type": "code",
   "execution_count": 2,
   "metadata": {},
   "outputs": [],
   "source": [
    "def GPR_forward_matrix(sources, boreholes_distance):\n",
    "    \"\"\"\n",
    "    Calculate matrix to compute GPR forward model\n",
    "    \n",
    "    We assume each source is located on the center of a layer,\n",
    "    creating a discretized model of the subsurface based on\n",
    "    layers of equal thickness.\n",
    "    \n",
    "    Parameters\n",
    "    ----------\n",
    "    sources : array\n",
    "        Depth to sources and receivers. Each pair of sources\n",
    "        and receivers are assumed to be located at the same depths.\n",
    "    boreholes_distance : float\n",
    "        Horizontal distance between sources and receivers\n",
    "        boreholes.\n",
    "        \n",
    "    Returns\n",
    "    -------\n",
    "    G : numpy.matrix\n",
    "        Matrix for forward modelling.\n",
    "    \"\"\"\n",
    "    # Get number of sources\n",
    "    n_sources = sources.size\n",
    "    # Create receivers depths (they are the same as sources)\n",
    "    receivers = sources.copy()\n",
    "    # Compute equidistance between sources\n",
    "    dh = sources[1] - sources[0]\n",
    "    # Initialize matrix full of zeros\n",
    "    G = np.matrix(np.zeros((n_sources ** 2, n_sources)))\n",
    "    for i, source in enumerate(sources):\n",
    "        for j, receiver in enumerate(receivers):\n",
    "            height = abs(source - receiver)\n",
    "            if i == j:\n",
    "                # Source and receiver are on the same layer\n",
    "                G[j + n_sources * i, i] = boreholes_distance\n",
    "            else:\n",
    "                # Source and receiver are on different layer\n",
    "                factor = np.sqrt(1 + boreholes_distance ** 2 / height ** 2) * dh\n",
    "                for k in range(n_sources):\n",
    "                    kmin, kmax = min(i, j), max(i, j)\n",
    "                    if k == kmin or k == kmax:\n",
    "                        G[j + n_sources * i, k] = 0.5 * factor\n",
    "                    elif k > kmin and k < kmax:\n",
    "                        G[j + n_sources * i, k] = factor\n",
    "    return G\n",
    "\n",
    "\n",
    "@jit(nopython=True)\n",
    "def forward(G, porosity):\n",
    "    \"\"\"\n",
    "    Compute GPR forward model on four porosity layers\n",
    "    \n",
    "    We assume that four layers are present in the model,\n",
    "    where the first and the third one has double the thickness of the\n",
    "    others.\n",
    "    So on the six layers model, we must set the same porosity values\n",
    "    for layers 1 and 2, and 4 and 5.\n",
    "    \n",
    "    Parameters\n",
    "    ----------\n",
    "    G : numpy.matrix\n",
    "        Forward modelling matrix.\n",
    "    porosity : list or array\n",
    "        Porosity values for each one of the four layers.\n",
    "\n",
    "    Returns\n",
    "    -------\n",
    "    times : array\n",
    "        Travel times between each source-receiver pair.\n",
    "        For each receiver there are six arrival times, one\n",
    "        for each source.\n",
    "        So the `times` array has 36 elements.\n",
    "    \"\"\"\n",
    "    # Convert the four porosities into 6 layers\n",
    "    porosity_six_layers = np.zeros(6)\n",
    "    porosity_six_layers[0] = porosity[0]\n",
    "    porosity_six_layers[1] = porosity[0]\n",
    "    porosity_six_layers[2] = porosity[1]\n",
    "    porosity_six_layers[3] = porosity[2]\n",
    "    porosity_six_layers[4] = porosity[2]\n",
    "    porosity_six_layers[5] = porosity[3]\n",
    "    # Convert porosity to slowness\n",
    "    slowness = _porosity_to_slowness(porosity_six_layers)\n",
    "    slowness = slowness.reshape(6, 1)\n",
    "    # Compute arrival times on receivers\n",
    "    times = np.dot(G, slowness)\n",
    "    return times\n",
    "\n",
    "\n",
    "@jit(nopython=True)\n",
    "def _porosity_to_slowness(porosity, kappa_s=5, kappa_w=81):\n",
    "    \"\"\"\n",
    "    Convert porosities to slowness\n",
    "    \n",
    "    It makes use of the CRIM equation under saturated conditions.\n",
    "    \n",
    "    Parameters\n",
    "    ----------\n",
    "    porosity : array\n",
    "        Porosity values\n",
    "    kappa_s : float (optional)\n",
    "        Relative permitivity of grains\n",
    "    kappa_w : float (optional)\n",
    "        Relative permitivity of water\n",
    "    \"\"\"\n",
    "    c = 0.3  # speed of light in vacumm in m/ns\n",
    "    kappa_sqrt = (\n",
    "        (1 - porosity) * np.sqrt(kappa_s)\n",
    "        + porosity * np.sqrt(kappa_w)\n",
    "    )\n",
    "    slowness = kappa_sqrt / c\n",
    "    return slowness"
   ]
  },
  {
   "cell_type": "markdown",
   "metadata": {},
   "source": [
    "# Define functions for GPR inverse problem"
   ]
  },
  {
   "cell_type": "code",
   "execution_count": 3,
   "metadata": {},
   "outputs": [],
   "source": [
    "@jit(nopython=True)\n",
    "def inverse_problem(G, times, sigma, supremum, iterations, expected_acceptance=0.001):\n",
    "    \"\"\"\n",
    "    Perform the GPR inverse problems\n",
    "    \n",
    "    It obtaines a collection of accepted porosity models based on the rejection\n",
    "    sampling algorithm.\n",
    "    \n",
    "    Parameters\n",
    "    ----------\n",
    "    G : numpy.matrix\n",
    "        Forward modelling matrix\n",
    "    times : array\n",
    "        Measured travel times on for every source-receiver pair\n",
    "    sigma : float\n",
    "        Standar deviation of the meassured times\n",
    "    supremum : float\n",
    "        Supremum value used on the rejection sampling algorithm.\n",
    "        A high value will create more rejections, while a lower value will\n",
    "        increase the acceptance ratio.\n",
    "    iterations : int\n",
    "        Number of total iterations\n",
    "    expected_acceptance : float (optional)\n",
    "        Pre-estimation of the acceptance ratio. It only serves to prevent\n",
    "        high memory consumption. It doesn't interfere with the inversion.\n",
    "        \n",
    "    Returns\n",
    "    -------\n",
    "    accepted_porosities : array\n",
    "        Set of accepted porosities models\n",
    "    max_likelihood : float\n",
    "        Maximum computed likelihood on every iteration\n",
    "    \"\"\"\n",
    "    n_accepted = 0\n",
    "    accepted_porosities = np.zeros((int(iterations * expected_acceptance), 4))\n",
    "    max_likelihood = 0\n",
    "    for i in range(iterations):\n",
    "        # Draw a porosity array with uniform distribution between 0.2 and 0.4\n",
    "        porosity = (0.4 - 0.2) * np.random.rand(4) + 0.2\n",
    "        # Check if it should be rejected or accepted\n",
    "        likelihood = _likelihood(G, porosity, times, sigma)\n",
    "        if likelihood > max_likelihood:\n",
    "            max_likelihood = likelihood\n",
    "        probability = likelihood / supremum\n",
    "        if np.random.rand() < probability:\n",
    "            accepted_porosities[n_accepted] = porosity\n",
    "            n_accepted += 1\n",
    "    accepted_porosities = accepted_porosities[:n_accepted]\n",
    "    return accepted_porosities, max_likelihood\n",
    "\n",
    "\n",
    "@jit(nopython=True)\n",
    "def _likelihood(G, porosity, times, sigma):\n",
    "    \"\"\"\n",
    "    Compute likelihood of a porosity model\n",
    "    \"\"\"\n",
    "    # Get number of data values\n",
    "    n_times = times.size\n",
    "    # Calculate the difference between predicted and data\n",
    "    difference = np.linalg.norm(forward(G, porosity) - times)\n",
    "    likelihood = (\n",
    "        (1 / np.sqrt(2 * np.pi) / sigma) ** n_times\n",
    "        * np.exp(-0.5 * difference ** 2 / sigma ** 2)\n",
    "    )\n",
    "    return likelihood"
   ]
  },
  {
   "cell_type": "markdown",
   "metadata": {},
   "source": [
    "# Define function for plotting posteriors distributions"
   ]
  },
  {
   "cell_type": "code",
   "execution_count": 4,
   "metadata": {},
   "outputs": [],
   "source": [
    "def plot_posterior(porosities, min_porosity=0.2, max_porosity=0.4):\n",
    "    \"\"\"\n",
    "    Plot posterior distribution of each layer porosity\n",
    "    \"\"\"\n",
    "    fig, axes = plt.subplots(nrows=2, ncols=2, figsize=(10, 6.66))\n",
    "    for i, ax in enumerate(axes.ravel()):\n",
    "        ax.hist(porosities[:, i])\n",
    "        ax.set_title(\"Layer {}\".format(i + 1))\n",
    "        ax.set_xlim(min_porosity, max_porosity)"
   ]
  },
  {
   "cell_type": "markdown",
   "metadata": {},
   "source": [
    "# Perform inversion of data from `data.mat`"
   ]
  },
  {
   "cell_type": "markdown",
   "metadata": {},
   "source": [
    "## Define layers model and G matrix\n",
    "\n",
    "We must define some variables regarding the layered model of the subsurface such as the distance between the sources and receivers boreholes and the depth to each GPR source.\n",
    "We will work under the assumption that receivers and sources are respectively located at the same depths."
   ]
  },
  {
   "cell_type": "code",
   "execution_count": 5,
   "metadata": {},
   "outputs": [],
   "source": [
    "boreholes_distance = 4\n",
    "sources = np.linspace(0.5, 5.5, 6)"
   ]
  },
  {
   "cell_type": "markdown",
   "metadata": {},
   "source": [
    "Then, we will compute the forward modelling matrix, called **G**, in order to make future forward computations more efficient."
   ]
  },
  {
   "cell_type": "code",
   "execution_count": 6,
   "metadata": {},
   "outputs": [],
   "source": [
    "G = GPR_forward_matrix(sources, boreholes_distance)"
   ]
  },
  {
   "cell_type": "markdown",
   "metadata": {},
   "source": [
    "## Read data from file\n",
    "\n",
    "We will gather the data from the `data.mat` file. It contains ten datasets of travel times for each source-receiver pair.\n",
    "We will work only with the fifth dataset."
   ]
  },
  {
   "cell_type": "code",
   "execution_count": 7,
   "metadata": {},
   "outputs": [
    {
     "name": "stdout",
     "output_type": "stream",
     "text": [
      "Number of travel time values: 36\n"
     ]
    }
   ],
   "source": [
    "data = loadmat(\"data.mat\")\n",
    "times = data[\"dataobs5\"]\n",
    "n_times = times.size\n",
    "print(\"Number of travel time values: {}\".format(n_times))"
   ]
  },
  {
   "cell_type": "markdown",
   "metadata": {},
   "source": [
    "## Perform inversions\n",
    "\n",
    "We perform a first inversion by assuming a simple supremum $S_L$ defined as:\n",
    "\n",
    "$$ S_L = \\left( \\frac{1}{\\sqrt{2\\pi} \\sigma} \\right)^N $$\n",
    "\n",
    "Where $N=36$ is the number of data values (travel times).\n",
    "\n",
    "We will run 35 million iterations in order to ensure a good sampling of the model space."
   ]
  },
  {
   "cell_type": "code",
   "execution_count": 8,
   "metadata": {},
   "outputs": [
    {
     "name": "stdout",
     "output_type": "stream",
     "text": [
      "Supremum: 4.29e-15\n",
      "Accepted porosity models: 0\n",
      "Acceptance rate: 0.000000\n",
      "Maximum likelihood: 4.22e-21\n"
     ]
    }
   ],
   "source": [
    "iterations = 35e6\n",
    "sigma = 1\n",
    "supremum = (1 / np.sqrt(2*np.pi) / sigma) ** n_times\n",
    "\n",
    "porosities, max_likelihood = inverse_problem(\n",
    "    G,\n",
    "    times,\n",
    "    sigma=sigma,\n",
    "    supremum=supremum,\n",
    "    iterations=iterations,\n",
    ")\n",
    "\n",
    "print(\"Supremum: {:1.2e}\".format(supremum))\n",
    "print(\"Accepted porosity models: {}\".format(porosities.size))\n",
    "print(\"Acceptance rate: {:f}\".format(porosities.size / iterations))\n",
    "print(\"Maximum likelihood: {:1.2e}\".format(max_likelihood))"
   ]
  },
  {
   "cell_type": "markdown",
   "metadata": {},
   "source": [
    "No model is accepted when running this inversion.\n",
    "We must change the supremum value in order to increase the acceptance rate."
   ]
  },
  {
   "cell_type": "markdown",
   "metadata": {},
   "source": [
    "Lets try with a supremum defined as:\n",
    "\n",
    "$$ S_L = \\left( \\frac{1}{\\sqrt{2\\pi} \\sigma} \\right)^N e^{-N/2} $$\n"
   ]
  },
  {
   "cell_type": "code",
   "execution_count": 9,
   "metadata": {},
   "outputs": [
    {
     "name": "stdout",
     "output_type": "stream",
     "text": [
      "Supremum: 6.54e-23\n",
      "Accepted porosity models: 34588\n",
      "Acceptance rate: 0.000988\n",
      "Maximum likelihood: 4.27e-21\n"
     ]
    }
   ],
   "source": [
    "iterations = 35e6\n",
    "sigma = 1\n",
    "supremum = (1 / np.sqrt(2*np.pi) / sigma) ** n_times * np.exp(-0.5 * n_times)\n",
    "\n",
    "porosities, max_likelihood = inverse_problem(\n",
    "    G,\n",
    "    times,\n",
    "    sigma=sigma,\n",
    "    supremum=supremum,\n",
    "    iterations=iterations,\n",
    ")\n",
    "\n",
    "print(\"Supremum: {:1.2e}\".format(supremum))\n",
    "print(\"Accepted porosity models: {}\".format(porosities.size))\n",
    "print(\"Acceptance rate: {:f}\".format(porosities.size / iterations))\n",
    "print(\"Maximum likelihood: {:1.2e}\".format(max_likelihood))"
   ]
  },
  {
   "cell_type": "markdown",
   "metadata": {},
   "source": [
    "Lets plot the histogram of the porosity values of each layer"
   ]
  },
  {
   "cell_type": "code",
   "execution_count": 10,
   "metadata": {},
   "outputs": [
    {
     "data": {
      "image/png": "[encoded data removed]",
      "text/plain": [
       "<Figure size 720x479.52 with 4 Axes>"
      ]
     },
     "metadata": {
      "needs_background": "light"
     },
     "output_type": "display_data"
    }
   ],
   "source": [
    "plot_posterior(porosities)\n",
    "plt.show()"
   ]
  },
  {
   "cell_type": "markdown",
   "metadata": {},
   "source": [
    "With this supremum value we get a significant number of accepted models and the posteriors distributions for each layer assembles Gaussian distributions.\n",
    "Because layers 1 and 3 has two sources and two receivers, their posterior distributions are better defined."
   ]
  },
  {
   "cell_type": "markdown",
   "metadata": {},
   "source": [
    "We could try another value of the supremum as the maximum likelihood obtained on the previous run."
   ]
  },
  {
   "cell_type": "code",
   "execution_count": 11,
   "metadata": {},
   "outputs": [
    {
     "name": "stdout",
     "output_type": "stream",
     "text": [
      "Supremum: 4.15e-21\n",
      "Accepted porosity models: 2452\n",
      "Acceptance rate: 0.000070\n",
      "Maximum likelihood: 4.41e-21\n"
     ]
    },
    {
     "data": {
      "image/png": "[encoded data removed]",
      "text/plain": [
       "<Figure size 720x479.52 with 4 Axes>"
      ]
     },
     "metadata": {
      "needs_background": "light"
     },
     "output_type": "display_data"
    }
   ],
   "source": [
    "iterations = 35e6\n",
    "sigma = 1\n",
    "supremum = 4.15e-21\n",
    "\n",
    "porosities, max_likelihood = inverse_problem(\n",
    "    G,\n",
    "    times,\n",
    "    sigma=sigma,\n",
    "    supremum=supremum,\n",
    "    iterations=iterations,\n",
    ")\n",
    "\n",
    "print(\"Supremum: {:1.2e}\".format(supremum))\n",
    "print(\"Accepted porosity models: {}\".format(porosities.size))\n",
    "print(\"Acceptance rate: {:f}\".format(porosities.size / iterations))\n",
    "print(\"Maximum likelihood: {:1.2e}\".format(max_likelihood))\n",
    "\n",
    "plot_posterior(porosities)\n",
    "plt.show()"
   ]
  },
  {
   "cell_type": "markdown",
   "metadata": {},
   "source": [
    "Increasing the supremum we get even more defined posterior distributions, because we make the acceptance process more strict."
   ]
  }
 ],
 "metadata": {
  "kernelspec": {
   "display_name": "Python 3",
   "language": "python",
   "name": "python3"
  },
  "language_info": {
   "codemirror_mode": {
    "name": "ipython",
    "version": 3
   },
   "file_extension": ".py",
   "mimetype": "text/x-python",
   "name": "python",
   "nbconvert_exporter": "python",
   "pygments_lexer": "ipython3",
   "version": "3.7.3"
  }
 },
 "nbformat": 4,
 "nbformat_minor": 2
}
