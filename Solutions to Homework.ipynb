{
 "cells": [
  {
   "cell_type": "code",
   "execution_count": 1,
   "metadata": {},
   "outputs": [],
   "source": [
    "import numpy as np\n",
    "from numba import jit\n",
    "from scipy.io import loadmat\n",
    "import matplotlib.pyplot as plt"
   ]
  },
  {
   "cell_type": "markdown",
   "metadata": {},
   "source": [
    "# Define functions for GPR forward model"
   ]
  },
  {
   "cell_type": "code",
   "execution_count": 2,
   "metadata": {},
   "outputs": [],
   "source": [
    "def GPR_forward_matrix(sources, boreholes_distance):\n",
    "    \"\"\"\n",
    "    Calculate matrix to compute GPR forward model\n",
    "    \n",
    "    We assume each source is located on the center of a layer,\n",
    "    creating a discretized model of the subsurface based on\n",
    "    layers of equal thickness.\n",
    "    \n",
    "    Parameters\n",
    "    ----------\n",
    "    sources : array\n",
    "        Depth to sources and receivers. Each pair of sources\n",
    "        and receivers are assumed to be located at the same depths.\n",
    "    boreholes_distance : float\n",
    "        Horizontal distance between sources and receivers\n",
    "        boreholes.\n",
    "        \n",
    "    Returns\n",
    "    -------\n",
    "    G : numpy.matrix\n",
    "        Matrix for forward modelling.\n",
    "    \"\"\"\n",
    "    # Get number of sources\n",
    "    n_sources = sources.size\n",
    "    # Create receivers depths (they are the same as sources)\n",
    "    receivers = sources.copy()\n",
    "    # Compute equidistance between sources\n",
    "    dh = sources[1] - sources[0]\n",
    "    # Initialize matrix full of zeros\n",
    "    G = np.matrix(np.zeros((n_sources ** 2, n_sources)))\n",
    "    for i, source in enumerate(sources):\n",
    "        for j, receiver in enumerate(receivers):\n",
    "            height = abs(source - receiver)\n",
    "            if i == j:\n",
    "                # Source and receiver are on the same layer\n",
    "                G[j + n_sources * i, i] = boreholes_distance\n",
    "            else:\n",
    "                # Source and receiver are on different layer\n",
    "                factor = np.sqrt(1 + boreholes_distance ** 2 / height ** 2) * dh\n",
    "                for k in range(n_sources):\n",
    "                    kmin, kmax = min(i, j), max(i, j)\n",
    "                    if k == kmin or k == kmax:\n",
    "                        G[j + n_sources * i, k] = 0.5 * factor\n",
    "                    elif k > kmin and k < kmax:\n",
    "                        G[j + n_sources * i, k] = factor\n",
    "    return G\n",
    "\n",
    "\n",
    "@jit(nopython=True)\n",
    "def forward(G, porosity):\n",
    "    \"\"\"\n",
    "    Compute GPR forward model on four porosity layers\n",
    "    \n",
    "    We assume that four layers are present in the model,\n",
    "    where the first and the third one has double the thickness of the\n",
    "    others.\n",
    "    So on the six layers model, we must set the same porosity values\n",
    "    for layers 1 and 2, and 4 and 5.\n",
    "    \n",
    "    Parameters\n",
    "    ----------\n",
    "    G : numpy.matrix\n",
    "        Forward modelling matrix.\n",
    "    porosity : list or array\n",
    "        Porosity values for each one of the four layers.\n",
    "\n",
    "    Returns\n",
    "    -------\n",
    "    times : array\n",
    "        Arrival times between sources and receivers.\n",
    "        For each receiver there are six arrival times, one\n",
    "        for each source.\n",
    "        So the `times` array has 36 elements.\n",
    "    \"\"\"\n",
    "    # Convert the four porosities into 6 layers\n",
    "    porosity_six_layers = np.zeros(6)\n",
    "    porosity_six_layers[0] = porosity[0]\n",
    "    porosity_six_layers[1] = porosity[0]\n",
    "    porosity_six_layers[2] = porosity[1]\n",
    "    porosity_six_layers[3] = porosity[2]\n",
    "    porosity_six_layers[4] = porosity[2]\n",
    "    porosity_six_layers[5] = porosity[3]\n",
    "    # Convert porosity to slowness\n",
    "    slowness = _porosity_to_slowness(porosity_six_layers)\n",
    "    slowness = slowness.reshape(6, 1)\n",
    "    # Compute arrival times on receivers\n",
    "    times = np.dot(G, slowness)\n",
    "    return times\n",
    "\n",
    "\n",
    "@jit(nopython=True)\n",
    "def _porosity_to_slowness(porosity, kappa_s=5, kappa_w=81):\n",
    "    \"\"\"\n",
    "    Convert porosities to slowness\n",
    "    \n",
    "    It makes use of the CRIM equation under saturated conditions.\n",
    "    \n",
    "    Parameters\n",
    "    ----------\n",
    "    porosity : array\n",
    "        Porosity values\n",
    "    kappa_s : float (optional)\n",
    "        Relative permitivity of grains\n",
    "    kappa_w : float (optional)\n",
    "        Relative permitivity of water\n",
    "    \"\"\"\n",
    "    c = 0.3  # speed of light in vacumm in m/ns\n",
    "    kappa_sqrt = (\n",
    "        (1 - porosity) * np.sqrt(kappa_s)\n",
    "        + porosity * np.sqrt(kappa_w)\n",
    "    )\n",
    "    slowness = kappa_sqrt / c\n",
    "    return slowness"
   ]
  },
  {
   "cell_type": "markdown",
   "metadata": {},
   "source": [
    "# Define functions for GPR inverse problem"
   ]
  },
  {
   "cell_type": "code",
   "execution_count": 3,
   "metadata": {},
   "outputs": [],
   "source": [
    "@jit(nopython=True)\n",
    "def inverse_problem(G, times, sigma, supremum, iterations, expected_acceptance=0.001):\n",
    "    \"\"\"\n",
    "    Perform the GPR inverse problems\n",
    "    \n",
    "    It obtaines a collection of accepted porosity models based on the rejection\n",
    "    sampling algorithm.\n",
    "    \n",
    "    Parameters\n",
    "    ----------\n",
    "    G : numpy.matrix\n",
    "        Forward modelling matrix\n",
    "    times : array\n",
    "        Measured arrival times on every receiver\n",
    "    sigma : float\n",
    "        Standar deviation of the meassured times\n",
    "    supremum : float\n",
    "        Supremum value used on the rejection sampling algorithm.\n",
    "        A high value will create more rejections, while a lower value will\n",
    "        increase the acceptance ratio.\n",
    "    iterations : int\n",
    "        Number of total iterations\n",
    "    expected_acceptance : float (optional)\n",
    "        Pre-estimation of the acceptance ratio. It only serves to prevent\n",
    "        high memory consumption. It doesn't interfere with the inversion.\n",
    "        \n",
    "    Returns\n",
    "    -------\n",
    "    accepted_porosities : array\n",
    "        Set of accepted porosities models\n",
    "    max_likelihood : float\n",
    "        Maximum computed likelihood on every iteration\n",
    "    \"\"\"\n",
    "    n_accepted = 0\n",
    "    accepted_porosities = np.zeros((int(iterations * expected_acceptance), 4))\n",
    "    max_likelihood = 0\n",
    "    for i in range(iterations):\n",
    "        # Draw a porosity array with uniform distribution between 0.2 and 0.4\n",
    "        porosity = (0.4 - 0.2) * np.random.rand(4) + 0.2\n",
    "        # Check if it should be rejected or accepted\n",
    "        likelihood = _likelihood(G, porosity, times, sigma)\n",
    "        if likelihood > max_likelihood:\n",
    "            max_likelihood = likelihood\n",
    "        probability = likelihood / supremum\n",
    "        if np.random.rand() < probability:\n",
    "            accepted_porosities[n_accepted] = porosity\n",
    "            n_accepted += 1\n",
    "    accepted_porosities = accepted_porosities[:n_accepted]\n",
    "    return accepted_porosities, max_likelihood\n",
    "\n",
    "\n",
    "@jit(nopython=True)\n",
    "def _likelihood(G, porosity, times, sigma):\n",
    "    \"\"\"\n",
    "    Compute likelihood of a porosity model\n",
    "    \"\"\"\n",
    "    # Get number of data values\n",
    "    n_times = times.size\n",
    "    # Calculate the difference between predicted and data\n",
    "    difference = np.linalg.norm(forward(G, porosity) - times)\n",
    "    likelihood = (\n",
    "        (1 / np.sqrt(2 * np.pi) / sigma) ** n_times\n",
    "        * np.exp(-0.5 * difference ** 2 / sigma ** 2)\n",
    "    )\n",
    "    return likelihood"
   ]
  },
  {
   "cell_type": "markdown",
   "metadata": {},
   "source": [
    "# Perform inversion of data from `data.mat`"
   ]
  },
  {
   "cell_type": "markdown",
   "metadata": {},
   "source": [
    "## Define layers model and G matrix"
   ]
  },
  {
   "cell_type": "code",
   "execution_count": 4,
   "metadata": {},
   "outputs": [],
   "source": [
    "boreholes_distance = 4\n",
    "sources = np.linspace(0.5, 5.5, 6)"
   ]
  },
  {
   "cell_type": "code",
   "execution_count": 5,
   "metadata": {},
   "outputs": [],
   "source": [
    "G = GPR_forward_matrix(sources, boreholes_distance)"
   ]
  },
  {
   "cell_type": "markdown",
   "metadata": {},
   "source": [
    "## Read data from file"
   ]
  },
  {
   "cell_type": "code",
   "execution_count": 6,
   "metadata": {},
   "outputs": [],
   "source": [
    "data = loadmat(\"data.mat\")\n",
    "times = data[\"dataobs5\"]"
   ]
  },
  {
   "cell_type": "markdown",
   "metadata": {},
   "source": [
    "## Perform inversion"
   ]
  },
  {
   "cell_type": "code",
   "execution_count": 7,
   "metadata": {},
   "outputs": [
    {
     "name": "stdout",
     "output_type": "stream",
     "text": [
      "Accepted porosity models: 2752\n",
      "Maximum likelihood: 4.389185002542547e-21\n"
     ]
    }
   ],
   "source": [
    "porosities, max_likelihood = inverse_problem(\n",
    "    G,\n",
    "    times,\n",
    "    sigma=1,\n",
    "    supremum=4e-21,\n",
    "    iterations=35e6\n",
    ")\n",
    "\n",
    "print(\"Accepted porosity models: {}\".format(porosities.size))\n",
    "print(\"Maximum likelihood: {}\".format(max_likelihood))"
   ]
  },
  {
   "cell_type": "markdown",
   "metadata": {},
   "source": [
    "## Plot histograms for each layer"
   ]
  },
  {
   "cell_type": "code",
   "execution_count": 8,
   "metadata": {},
   "outputs": [
    {
     "data": {
      "image/png": "[encoded data removed]",
      "text/plain": [
       "<Figure size 720x479.52 with 4 Axes>"
      ]
     },
     "metadata": {
      "needs_background": "light"
     },
     "output_type": "display_data"
    }
   ],
   "source": [
    "fig, axes = plt.subplots(nrows=2, ncols=2, figsize=(10, 6.66))\n",
    "for i, ax in enumerate(axes.ravel()):\n",
    "    ax.hist(porosities[:, i])\n",
    "    ax.set_title(\"Layer {}\".format(i + 1))\n",
    "    ax.set_xlim(0.2, 0.4)\n",
    "plt.show()"
   ]
  },
  {
   "cell_type": "code",
   "execution_count": null,
   "metadata": {},
   "outputs": [],
   "source": []
  }
 ],
 "metadata": {
  "kernelspec": {
   "display_name": "Python 3",
   "language": "python",
   "name": "python3"
  },
  "language_info": {
   "codemirror_mode": {
    "name": "ipython",
    "version": 3
   },
   "file_extension": ".py",
   "mimetype": "text/x-python",
   "name": "python",
   "nbconvert_exporter": "python",
   "pygments_lexer": "ipython3",
   "version": "3.7.3"
  }
 },
 "nbformat": 4,
 "nbformat_minor": 2
}
