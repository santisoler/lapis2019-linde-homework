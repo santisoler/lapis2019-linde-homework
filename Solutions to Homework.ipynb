{
 "cells": [
  {
   "cell_type": "code",
   "execution_count": 32,
   "metadata": {},
   "outputs": [],
   "source": [
    "import numpy as np\n",
    "import matplotlib.pyplot as plt"
   ]
  },
  {
   "cell_type": "code",
   "execution_count": 33,
   "metadata": {},
   "outputs": [],
   "source": [
    "def GPR_forward(sources, porosity, boreholes_distance):\n",
    "    # Compute distance between sources\n",
    "    dh = sources[1] - sources[0]\n",
    "    # Create receivers array\n",
    "    receivers = sources.copy()\n",
    "    # Transform porosity into slowness vector\n",
    "    slowness = porosity_to_slowness(porosity)\n",
    "    times = np.zeros((6, 6))\n",
    "    for i in range(6):\n",
    "        for j in range(6):\n",
    "            if i == j:\n",
    "                # Fill the diagonal of times matrix\n",
    "                times[i, i] = slowness[i] * boreholes_distance\n",
    "            else:\n",
    "                # Fill no diagonal elements\n",
    "                height = abs(sources[i] - receivers[j])\n",
    "                factor = (\n",
    "                    dh\n",
    "                    * np.sqrt(1 + boreholes_distance ** 2 / height **2)\n",
    "                )\n",
    "                times[i, j] = 0.5 * slowness[i]\n",
    "                times[i, j] += 0.5 * slowness[j]\n",
    "                min_index, max_index = min(i, j), max(i, j)\n",
    "                times[i, j] += sum(slowness[min_index + 1 : max_index])\n",
    "                times[i, j] *= factor\n",
    "    return times\n",
    "\n",
    "\n",
    "def porosity_to_slowness(porosity, kappa_s=5, kappa_w=81):\n",
    "    c = 0.3  # speed of light in vacumm in m/ns\n",
    "    porosity = np.array(porosity)\n",
    "    kappa_sqrt = (1 - porosity) * np.sqrt(kappa_s) + porosity * np.sqrt(kappa_w)\n",
    "    return kappa_sqrt / c\n",
    "\n",
    "\n",
    "def define_porosity_layers(porosity):\n",
    "    # Make 6 layers out of 4 porosity parameters\n",
    "    porosity_layers = porosity.copy()\n",
    "    porosity_layers.insert(1, porosity[0])\n",
    "    porosity_layers.insert(3, porosity[2])\n",
    "    return porosity_layers"
   ]
  },
  {
   "cell_type": "code",
   "execution_count": 34,
   "metadata": {},
   "outputs": [],
   "source": [
    "# Define depths to sources and receivers (must be the same)\n",
    "sources = np.linspace(0.5, 5.5, 6)  # in meters\n",
    "boreholes_distance = 4  # in meters"
   ]
  },
  {
   "cell_type": "code",
   "execution_count": 39,
   "metadata": {},
   "outputs": [
    {
     "data": {
      "text/plain": [
       "array([[ 29,  30,  58,  74,  74,  76],\n",
       "       [ 30,  29,  77,  83,  74,  74],\n",
       "       [ 58,  77, 120,  77,  58,  56],\n",
       "       [ 74,  83,  77,  29,  30,  33],\n",
       "       [ 74,  74,  58,  30,  29,  30],\n",
       "       [ 76,  74,  56,  33,  30,  29]])"
      ]
     },
     "execution_count": 39,
     "metadata": {},
     "output_type": "execute_result"
    }
   ],
   "source": [
    "porosity = define_porosity_layers([0, 1, 0, 0])\n",
    "np.array(GPR_forward(sources, porosity, boreholes_distance), dtype=int)"
   ]
  },
  {
   "cell_type": "code",
   "execution_count": null,
   "metadata": {},
   "outputs": [],
   "source": []
  }
 ],
 "metadata": {
  "kernelspec": {
   "display_name": "Python 3",
   "language": "python",
   "name": "python3"
  },
  "language_info": {
   "codemirror_mode": {
    "name": "ipython",
    "version": 3
   },
   "file_extension": ".py",
   "mimetype": "text/x-python",
   "name": "python",
   "nbconvert_exporter": "python",
   "pygments_lexer": "ipython3",
   "version": "3.7.3"
  }
 },
 "nbformat": 4,
 "nbformat_minor": 2
}
